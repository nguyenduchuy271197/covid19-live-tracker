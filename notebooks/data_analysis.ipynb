{
 "cells": [
  {
   "cell_type": "code",
   "execution_count": 7,
   "id": "14028fc2",
   "metadata": {},
   "outputs": [
    {
     "name": "stdout",
     "output_type": "stream",
     "text": [
      "Dash is running on http://127.0.0.1:8050/\n",
      "\n",
      "Dash is running on http://127.0.0.1:8050/\n",
      "\n",
      "Dash is running on http://127.0.0.1:8050/\n",
      "\n",
      " * Serving Flask app '__main__' (lazy loading)\n",
      " * Environment: production\n",
      "\u001b[31m   WARNING: This is a development server. Do not use it in a production deployment.\u001b[0m\n",
      "\u001b[2m   Use a production WSGI server instead.\u001b[0m\n",
      " * Debug mode: off\n"
     ]
    },
    {
     "name": "stderr",
     "output_type": "stream",
     "text": [
      " * Running on http://127.0.0.1:8050/ (Press CTRL+C to quit)\n",
      "127.0.0.1 - - [08/Sep/2021 18:00:30] \"GET / HTTP/1.1\" 200 -\n",
      "127.0.0.1 - - [08/Sep/2021 18:00:30] \"GET /_dash-component-suites/dash_renderer/react@16.v1_9_1m1617900226.14.0.min.js HTTP/1.1\" 200 -\n",
      "127.0.0.1 - - [08/Sep/2021 18:00:30] \"GET /_dash-component-suites/dash_renderer/polyfill@7.v1_9_1m1617900226.8.7.min.js HTTP/1.1\" 200 -\n",
      "127.0.0.1 - - [08/Sep/2021 18:00:30] \"GET /_dash-component-suites/dash_renderer/react-dom@16.v1_9_1m1617900226.14.0.min.js HTTP/1.1\" 200 -\n",
      "127.0.0.1 - - [08/Sep/2021 18:00:30] \"GET /_dash-component-suites/dash_renderer/dash_renderer.v1_9_1m1617900246.min.js HTTP/1.1\" 200 -\n",
      "127.0.0.1 - - [08/Sep/2021 18:00:30] \"GET /_dash-component-suites/dash_bootstrap_components/_components/dash_bootstrap_components.v0_13_0m1630990074.min.js HTTP/1.1\" 200 -\n",
      "127.0.0.1 - - [08/Sep/2021 18:00:31] \"GET /_dash-dependencies HTTP/1.1\" 200 -\n",
      "127.0.0.1 - - [08/Sep/2021 18:00:31] \"GET /_dash-layout HTTP/1.1\" 200 -\n"
     ]
    }
   ],
   "source": [
    "#!/usr/bin/env python3\n",
    "# -*- coding: utf-8 -*-\n",
    "# =============================================================================\n",
    "# Created By  : Huy Nguyen\n",
    "# Created Date: Tue 7 Sep 2021\n",
    "# =============================================================================\n",
    "\n",
    "from dash import dash_table, html, dcc\n",
    "import os\n",
    "import requests\n",
    "import pandas as pd\n",
    "import plotly.express as px\n",
    "import dash\n",
    "import dash_bootstrap_components as dbc\n",
    "from utils import *\n",
    "from dash.dependencies import Input, Output, State\n",
    "\n",
    "# Variables\n",
    "API_ENDPOINTS = \"https://api.covid19api.com/summary\"\n",
    "NAVBAR_LOGO = \"https://cdn.pixabay.com/photo/2020/04/29/07/54/coronavirus-5107715_1280.png\"\n",
    "NAVBAR_TITLE = \"Covid-19 Live Tracker\"\n",
    "\n",
    "######## GET DATA ###########\n",
    "# Get data from API\n",
    "response = requests.get(API_ENDPOINTS)\n",
    "response.raise_for_status()\n",
    "data = response.json()\n",
    "\n",
    "######## GET COMPONENTS ###########\n",
    "# Country\n",
    "country_df = pd.DataFrame(data[\"Countries\"])\n",
    "fig = choropleth_plot(dataframe=country_df)\n",
    "\n",
    "# Navigation bar\n",
    "navbar = create_navbar(title=NAVBAR_TITLE, logo=NAVBAR_LOGO)\n",
    "\n",
    "# Data Card\n",
    "confirmed_card = make_card(data=data, case=\"Confirmed\", title=\"Confirmed\", color=\"secondary\")\n",
    "recovered_card = make_card(data=data, case=\"Recovered\", title=\"Recovered\", color=\"success\")\n",
    "deaths_card = make_card(data=data, case=\"Deaths\", title=\"Deaths\", color=\"danger\")\n",
    "\n",
    "cards = make_card_row(confirmed=confirmed_card, recovered=recovered_card, deaths=deaths_card)\n",
    "\n",
    "# Heading\n",
    "heading = html.H2(\"Covid-19 Worldwide Impact\", style={\"text-align\": \"center\", \"padding-bottom\": \"30px\"})\n",
    "\n",
    "# Get choropleth graph\n",
    "choropleth_graph = dcc.Graph(id=\"choropleth\", figure=fig)\n",
    "\n",
    "# Table\n",
    "table = create_table(data=data)\n",
    "\n",
    "# Dropdown\n",
    "dropdown = dcc.Dropdown(\n",
    "    id=\"dropdown\",\n",
    "    options=[{\"label\": con[\"Country\"], \"value\": con[\"CountryCode\"]} for con in data[\"Countries\"]] + [\n",
    "        {\"label\": \"All\", \"value\": \"all\"}],\n",
    "    value=\"all\",\n",
    "    style={\"margin-bottom\": \"20px\"}\n",
    ")\n",
    "\n",
    "# Graph + Table\n",
    "graph_table = html.Div([dbc.Row([dbc.Col(choropleth_graph, lg= 6), dbc.Col(html.Div([dropdown, table]), lg= 6)])])\n",
    "\n",
    "# Bar chart\n",
    "confirmed_fig = px.bar(country_df.sort_values(by=\"NewConfirmed\", ascending=False).head(20),\n",
    "                       x=\"CountryCode\",\n",
    "                       y=\"NewConfirmed\",\n",
    "                       hover_data=[\"Country\"],\n",
    "                       title=\"Top 20 New Confirmed\",\n",
    "                       labels= {\"Country\": \"\", \"NewConfirmed\": \"\"})\n",
    "confirmed_graph = dcc.Graph(id=\"bar_graph\", figure=confirmed_fig)\n",
    "\n",
    "######## WRITE APP ###########\n",
    "app = dash.Dash(external_stylesheets=[dbc.themes.BOOTSTRAP])\n",
    "\n",
    "app.layout = html.Div([\n",
    "    navbar,\n",
    "    html.Div([cards, heading, graph_table, confirmed_graph], style={\"padding\": \"0px 50px 50px 50px\"})\n",
    "])\n",
    "\n",
    "\n",
    "@app.callback(Output(\"table\", \"data\"), [Input(\"dropdown\", \"value\")])\n",
    "def update_table(code):\n",
    "    return get_rows(code, data)\n",
    "\n",
    "\n",
    "######## RUN APP ###########\n",
    "app.run_server()\n"
   ]
  },
  {
   "cell_type": "code",
   "execution_count": 11,
   "id": "39ded756",
   "metadata": {},
   "outputs": [],
   "source": [
    "fig.write_image(\"../images/choropleth_graph.png\")\n"
   ]
  },
  {
   "cell_type": "code",
   "execution_count": 13,
   "id": "0eafa928",
   "metadata": {},
   "outputs": [],
   "source": [
    "confirmed_fig.write_image(\"../images/new_confirmed.png\")"
   ]
  },
  {
   "cell_type": "code",
   "execution_count": null,
   "id": "4289ea7f",
   "metadata": {},
   "outputs": [],
   "source": []
  }
 ],
 "metadata": {
  "kernelspec": {
   "display_name": "Python 3 (ipykernel)",
   "language": "python",
   "name": "python3"
  },
  "language_info": {
   "codemirror_mode": {
    "name": "ipython",
    "version": 3
   },
   "file_extension": ".py",
   "mimetype": "text/x-python",
   "name": "python",
   "nbconvert_exporter": "python",
   "pygments_lexer": "ipython3",
   "version": "3.8.6"
  },
  "varInspector": {
   "cols": {
    "lenName": 16,
    "lenType": 16,
    "lenVar": 40
   },
   "kernels_config": {
    "python": {
     "delete_cmd_postfix": "",
     "delete_cmd_prefix": "del ",
     "library": "var_list.py",
     "varRefreshCmd": "print(var_dic_list())"
    },
    "r": {
     "delete_cmd_postfix": ") ",
     "delete_cmd_prefix": "rm(",
     "library": "var_list.r",
     "varRefreshCmd": "cat(var_dic_list()) "
    }
   },
   "types_to_exclude": [
    "module",
    "function",
    "builtin_function_or_method",
    "instance",
    "_Feature"
   ],
   "window_display": false
  }
 },
 "nbformat": 4,
 "nbformat_minor": 5
}
